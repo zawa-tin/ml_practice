{
 "cells": [
  {
   "cell_type": "markdown",
   "id": "6620c39e",
   "metadata": {},
   "source": [
    "高い正解率を目指していく"
   ]
  },
  {
   "cell_type": "code",
   "execution_count": 1,
   "id": "fc64782e",
   "metadata": {},
   "outputs": [],
   "source": [
    "from sklearn.datasets import fetch_openml\n",
    "\n",
    "mnist = fetch_openml('mnist_784', version=1)"
   ]
  },
  {
   "cell_type": "code",
   "execution_count": 2,
   "id": "c4232078",
   "metadata": {},
   "outputs": [
    {
     "name": "stdout",
     "output_type": "stream",
     "text": [
      "(70000, 784) (70000,)\n"
     ]
    }
   ],
   "source": [
    "X, Y = mnist['data'], mnist['target']\n",
    "print(X.shape, Y.shape)"
   ]
  },
  {
   "cell_type": "code",
   "execution_count": 3,
   "id": "7e20f9a3",
   "metadata": {},
   "outputs": [
    {
     "data": {
      "text/plain": [
       "array([[  0.,   0.,   0.,   0.,   0.,   0.,   0.,   0.,   0.,   0.,   0.,\n",
       "          0.,   0.,   0.,   0.,   0.,   0.,   0.,   0.,   0.,   0.,   0.,\n",
       "          0.,   0.,   0.,   0.,   0.,   0.],\n",
       "       [  0.,   0.,   0.,   0.,   0.,   0.,   0.,   0.,   0.,   0.,   0.,\n",
       "          0.,   0.,   0.,   0.,   0.,   0.,   0.,   0.,   0.,   0.,   0.,\n",
       "          0.,   0.,   0.,   0.,   0.,   0.],\n",
       "       [  0.,   0.,   0.,   0.,   0.,   0.,   0.,   0.,   0.,   0.,   0.,\n",
       "          0.,   0.,   0.,   0.,   0.,   0.,   0.,   0.,   0.,   0.,   0.,\n",
       "          0.,   0.,   0.,   0.,   0.,   0.],\n",
       "       [  0.,   0.,   0.,   0.,   0.,   0.,   0.,   0.,   0.,   0.,   0.,\n",
       "          0.,   0.,   0.,   0.,   0.,   0.,   0.,   0.,   0.,   0.,   0.,\n",
       "          0.,   0.,   0.,   0.,   0.,   0.],\n",
       "       [  0.,   0.,   0.,   0.,   0.,   0.,   0.,   0.,   0.,   0.,   0.,\n",
       "          0.,   0.,   0.,   0.,   0.,   0.,   0.,   0.,   0.,   0.,   0.,\n",
       "          0.,   0.,   0.,   0.,   0.,   0.],\n",
       "       [  0.,   0.,   0.,   0.,   0.,   0.,   0.,   0.,   0.,   0.,   0.,\n",
       "          0.,   3.,  18.,  18.,  18., 126., 136., 175.,  26., 166., 255.,\n",
       "        247., 127.,   0.,   0.,   0.,   0.],\n",
       "       [  0.,   0.,   0.,   0.,   0.,   0.,   0.,   0.,  30.,  36.,  94.,\n",
       "        154., 170., 253., 253., 253., 253., 253., 225., 172., 253., 242.,\n",
       "        195.,  64.,   0.,   0.,   0.,   0.],\n",
       "       [  0.,   0.,   0.,   0.,   0.,   0.,   0.,  49., 238., 253., 253.,\n",
       "        253., 253., 253., 253., 253., 253., 251.,  93.,  82.,  82.,  56.,\n",
       "         39.,   0.,   0.,   0.,   0.,   0.],\n",
       "       [  0.,   0.,   0.,   0.,   0.,   0.,   0.,  18., 219., 253., 253.,\n",
       "        253., 253., 253., 198., 182., 247., 241.,   0.,   0.,   0.,   0.,\n",
       "          0.,   0.,   0.,   0.,   0.,   0.],\n",
       "       [  0.,   0.,   0.,   0.,   0.,   0.,   0.,   0.,  80., 156., 107.,\n",
       "        253., 253., 205.,  11.,   0.,  43., 154.,   0.,   0.,   0.,   0.,\n",
       "          0.,   0.,   0.,   0.,   0.,   0.],\n",
       "       [  0.,   0.,   0.,   0.,   0.,   0.,   0.,   0.,   0.,  14.,   1.,\n",
       "        154., 253.,  90.,   0.,   0.,   0.,   0.,   0.,   0.,   0.,   0.,\n",
       "          0.,   0.,   0.,   0.,   0.,   0.],\n",
       "       [  0.,   0.,   0.,   0.,   0.,   0.,   0.,   0.,   0.,   0.,   0.,\n",
       "        139., 253., 190.,   2.,   0.,   0.,   0.,   0.,   0.,   0.,   0.,\n",
       "          0.,   0.,   0.,   0.,   0.,   0.],\n",
       "       [  0.,   0.,   0.,   0.,   0.,   0.,   0.,   0.,   0.,   0.,   0.,\n",
       "         11., 190., 253.,  70.,   0.,   0.,   0.,   0.,   0.,   0.,   0.,\n",
       "          0.,   0.,   0.,   0.,   0.,   0.],\n",
       "       [  0.,   0.,   0.,   0.,   0.,   0.,   0.,   0.,   0.,   0.,   0.,\n",
       "          0.,  35., 241., 225., 160., 108.,   1.,   0.,   0.,   0.,   0.,\n",
       "          0.,   0.,   0.,   0.,   0.,   0.],\n",
       "       [  0.,   0.,   0.,   0.,   0.,   0.,   0.,   0.,   0.,   0.,   0.,\n",
       "          0.,   0.,  81., 240., 253., 253., 119.,  25.,   0.,   0.,   0.,\n",
       "          0.,   0.,   0.,   0.,   0.,   0.],\n",
       "       [  0.,   0.,   0.,   0.,   0.,   0.,   0.,   0.,   0.,   0.,   0.,\n",
       "          0.,   0.,   0.,  45., 186., 253., 253., 150.,  27.,   0.,   0.,\n",
       "          0.,   0.,   0.,   0.,   0.,   0.],\n",
       "       [  0.,   0.,   0.,   0.,   0.,   0.,   0.,   0.,   0.,   0.,   0.,\n",
       "          0.,   0.,   0.,   0.,  16.,  93., 252., 253., 187.,   0.,   0.,\n",
       "          0.,   0.,   0.,   0.,   0.,   0.],\n",
       "       [  0.,   0.,   0.,   0.,   0.,   0.,   0.,   0.,   0.,   0.,   0.,\n",
       "          0.,   0.,   0.,   0.,   0.,   0., 249., 253., 249.,  64.,   0.,\n",
       "          0.,   0.,   0.,   0.,   0.,   0.],\n",
       "       [  0.,   0.,   0.,   0.,   0.,   0.,   0.,   0.,   0.,   0.,   0.,\n",
       "          0.,   0.,   0.,  46., 130., 183., 253., 253., 207.,   2.,   0.,\n",
       "          0.,   0.,   0.,   0.,   0.,   0.],\n",
       "       [  0.,   0.,   0.,   0.,   0.,   0.,   0.,   0.,   0.,   0.,   0.,\n",
       "          0.,  39., 148., 229., 253., 253., 253., 250., 182.,   0.,   0.,\n",
       "          0.,   0.,   0.,   0.,   0.,   0.],\n",
       "       [  0.,   0.,   0.,   0.,   0.,   0.,   0.,   0.,   0.,   0.,  24.,\n",
       "        114., 221., 253., 253., 253., 253., 201.,  78.,   0.,   0.,   0.,\n",
       "          0.,   0.,   0.,   0.,   0.,   0.],\n",
       "       [  0.,   0.,   0.,   0.,   0.,   0.,   0.,   0.,  23.,  66., 213.,\n",
       "        253., 253., 253., 253., 198.,  81.,   2.,   0.,   0.,   0.,   0.,\n",
       "          0.,   0.,   0.,   0.,   0.,   0.],\n",
       "       [  0.,   0.,   0.,   0.,   0.,   0.,  18., 171., 219., 253., 253.,\n",
       "        253., 253., 195.,  80.,   9.,   0.,   0.,   0.,   0.,   0.,   0.,\n",
       "          0.,   0.,   0.,   0.,   0.,   0.],\n",
       "       [  0.,   0.,   0.,   0.,  55., 172., 226., 253., 253., 253., 253.,\n",
       "        244., 133.,  11.,   0.,   0.,   0.,   0.,   0.,   0.,   0.,   0.,\n",
       "          0.,   0.,   0.,   0.,   0.,   0.],\n",
       "       [  0.,   0.,   0.,   0., 136., 253., 253., 253., 212., 135., 132.,\n",
       "         16.,   0.,   0.,   0.,   0.,   0.,   0.,   0.,   0.,   0.,   0.,\n",
       "          0.,   0.,   0.,   0.,   0.,   0.],\n",
       "       [  0.,   0.,   0.,   0.,   0.,   0.,   0.,   0.,   0.,   0.,   0.,\n",
       "          0.,   0.,   0.,   0.,   0.,   0.,   0.,   0.,   0.,   0.,   0.,\n",
       "          0.,   0.,   0.,   0.,   0.,   0.],\n",
       "       [  0.,   0.,   0.,   0.,   0.,   0.,   0.,   0.,   0.,   0.,   0.,\n",
       "          0.,   0.,   0.,   0.,   0.,   0.,   0.,   0.,   0.,   0.,   0.,\n",
       "          0.,   0.,   0.,   0.,   0.,   0.],\n",
       "       [  0.,   0.,   0.,   0.,   0.,   0.,   0.,   0.,   0.,   0.,   0.,\n",
       "          0.,   0.,   0.,   0.,   0.,   0.,   0.,   0.,   0.,   0.,   0.,\n",
       "          0.,   0.,   0.,   0.,   0.,   0.]])"
      ]
     },
     "execution_count": 3,
     "metadata": {},
     "output_type": "execute_result"
    }
   ],
   "source": [
    "first_element = X.loc[0].values\n",
    "first_element_image = first_element.reshape(28, 28)\n",
    "first_element_image"
   ]
  },
  {
   "cell_type": "code",
   "execution_count": 4,
   "id": "3b3c98f2",
   "metadata": {},
   "outputs": [
    {
     "data": {
      "image/png": "[encoded data removed]",
      "text/plain": [
       "<Figure size 432x288 with 1 Axes>"
      ]
     },
     "metadata": {
      "needs_background": "light"
     },
     "output_type": "display_data"
    }
   ],
   "source": [
    "import matplotlib as mpl\n",
    "import matplotlib.pyplot as plt\n",
    "%matplotlib inline\n",
    "\n",
    "plt.imshow(first_element_image, cmap=\"binary\")\n",
    "plt.show()"
   ]
  },
  {
   "cell_type": "code",
   "execution_count": 5,
   "id": "fb775aec",
   "metadata": {},
   "outputs": [
    {
     "data": {
      "text/plain": [
       "'5'"
      ]
     },
     "execution_count": 5,
     "metadata": {},
     "output_type": "execute_result"
    }
   ],
   "source": [
    "Y[0]"
   ]
  },
  {
   "cell_type": "code",
   "execution_count": 6,
   "id": "3c82e265",
   "metadata": {},
   "outputs": [
    {
     "data": {
      "text/plain": [
       "5"
      ]
     },
     "execution_count": 6,
     "metadata": {},
     "output_type": "execute_result"
    }
   ],
   "source": [
    "import numpy as np\n",
    "Y = Y.astype(np.uint8)\n",
    "Y[0]"
   ]
  },
  {
   "cell_type": "markdown",
   "id": "6aacdbc9",
   "metadata": {},
   "source": [
    "データの分割"
   ]
  },
  {
   "cell_type": "code",
   "execution_count": 7,
   "id": "02a58d84",
   "metadata": {},
   "outputs": [],
   "source": [
    "X_train, X_test, Y_train, Y_test = X[:60000], X[60000:], Y[:60000], Y[60000:]"
   ]
  },
  {
   "cell_type": "code",
   "execution_count": 8,
   "id": "21b4dd30",
   "metadata": {},
   "outputs": [
    {
     "data": {
      "text/plain": [
       "((60000, 784), (60000,))"
      ]
     },
     "execution_count": 8,
     "metadata": {},
     "output_type": "execute_result"
    }
   ],
   "source": [
    "X_train.shape, Y_train.shape"
   ]
  },
  {
   "cell_type": "markdown",
   "id": "e4191257",
   "metadata": {},
   "source": [
    "データの観察"
   ]
  },
  {
   "cell_type": "code",
   "execution_count": 9,
   "id": "bffcc8ff",
   "metadata": {},
   "outputs": [
    {
     "data": {
      "text/plain": [
       "count    784.000000\n",
       "mean      35.108418\n",
       "std       79.699674\n",
       "min        0.000000\n",
       "25%        0.000000\n",
       "50%        0.000000\n",
       "75%        0.000000\n",
       "max      255.000000\n",
       "Name: 0, dtype: float64"
      ]
     },
     "execution_count": 9,
     "metadata": {},
     "output_type": "execute_result"
    }
   ],
   "source": [
    "X_train.loc[0].describe()"
   ]
  },
  {
   "cell_type": "code",
   "execution_count": 10,
   "id": "a2b9ad9b",
   "metadata": {},
   "outputs": [
    {
     "data": {
      "image/png": "[encoded data removed]",
      "text/plain": [
       "<Figure size 432x288 with 1 Axes>"
      ]
     },
     "metadata": {
      "needs_background": "light"
     },
     "output_type": "display_data"
    }
   ],
   "source": [
    "X_train.loc[0].hist()\n",
    "plt.show()"
   ]
  },
  {
   "cell_type": "code",
   "execution_count": 11,
   "id": "80af72a4",
   "metadata": {},
   "outputs": [
    {
     "data": {
      "image/png": "[encoded data removed]",
      "text/plain": [
       "<Figure size 432x288 with 1 Axes>"
      ]
     },
     "metadata": {
      "needs_background": "light"
     },
     "output_type": "display_data"
    }
   ],
   "source": [
    "X_train.loc[133].hist()\n",
    "plt.show()"
   ]
  },
  {
   "cell_type": "code",
   "execution_count": 12,
   "id": "2c2014b0",
   "metadata": {},
   "outputs": [],
   "source": [
    "#X_train_transposed = X_train.transpose()\n",
    "#X_train_transposed.describe()"
   ]
  },
  {
   "cell_type": "markdown",
   "id": "e7e2de60",
   "metadata": {},
   "source": [
    "正規化を試みる"
   ]
  },
  {
   "cell_type": "code",
   "execution_count": 13,
   "id": "84ee0231",
   "metadata": {},
   "outputs": [
    {
     "data": {
      "text/plain": [
       "array([[0., 0., 0., ..., 0., 0., 0.],\n",
       "       [0., 0., 0., ..., 0., 0., 0.],\n",
       "       [0., 0., 0., ..., 0., 0., 0.],\n",
       "       ...,\n",
       "       [0., 0., 0., ..., 0., 0., 0.],\n",
       "       [0., 0., 0., ..., 0., 0., 0.],\n",
       "       [0., 0., 0., ..., 0., 0., 0.]])"
      ]
     },
     "execution_count": 13,
     "metadata": {},
     "output_type": "execute_result"
    }
   ],
   "source": [
    "from sklearn.preprocessing import MinMaxScaler\n",
    "\n",
    "min_max_scaler = MinMaxScaler()\n",
    "X_train_minmax_scaled = min_max_scaler.fit_transform(X_train.astype(np.float64))\n",
    "X_train_minmax_scaled"
   ]
  },
  {
   "cell_type": "code",
   "execution_count": 14,
   "id": "011a9476",
   "metadata": {},
   "outputs": [],
   "source": [
    "import pandas as pd\n",
    "\n",
    "X_train_minmax_scaled = pd.DataFrame(X_train_minmax_scaled)\n",
    "#X_train_minmax_scaled.transpose().describe()"
   ]
  },
  {
   "cell_type": "markdown",
   "id": "cda61cce",
   "metadata": {},
   "source": [
    "標準化処理も書いて置く"
   ]
  },
  {
   "cell_type": "code",
   "execution_count": 15,
   "id": "e6b509d1",
   "metadata": {},
   "outputs": [],
   "source": [
    "from sklearn.preprocessing import StandardScaler\n",
    "\n",
    "standard_scaler = StandardScaler()\n",
    "X_train_standard_scaled = standard_scaler.fit_transform(X_train.astype(np.float64))\n",
    "\n",
    "X_train_standard_scaled = pd.DataFrame(X_train_standard_scaled)\n",
    "#X_train_standard_scaled.transpose().describe()"
   ]
  },
  {
   "cell_type": "markdown",
   "id": "9d6466ec",
   "metadata": {},
   "source": [
    "色んなモデルを試してみる。時間かかるけど"
   ]
  },
  {
   "cell_type": "code",
   "execution_count": 16,
   "id": "f9c48b9c",
   "metadata": {},
   "outputs": [],
   "source": [
    "#SGD\n",
    "from sklearn.linear_model import SGDClassifier\n",
    "\n",
    "sgd_clf = SGDClassifier(random_state=42)\n",
    "#sgd_clf.fit(X_train_minmax_scaled, Y_train)\n",
    "\n",
    "from sklearn.model_selection import cross_val_score\n",
    "\n",
    "#sgd_minmax_score = cross_val_score(sgd_clf, X_train_minmax_scaled,\n",
    "                                   #Y_train, cv=3, scoring=\"accuracy\")"
   ]
  },
  {
   "cell_type": "code",
   "execution_count": 17,
   "id": "24a01cff",
   "metadata": {},
   "outputs": [],
   "source": [
    "#sgd_minmax_score.mean()\n",
    "sgd_minmax_score_mean = 0.9105333333333333"
   ]
  },
  {
   "cell_type": "code",
   "execution_count": 18,
   "id": "6a0c0dda",
   "metadata": {},
   "outputs": [],
   "source": [
    "#sgd_standard_score = cross_val_score(sgd_clf, X_train_standard_scaled,\n",
    "                                    # Y_train, cv=3, scoring=\"accuracy\")\n",
    "\n",
    "#sgd_standard_score\n",
    "sgd_standard_score_mean = 0.8970333333333333"
   ]
  },
  {
   "cell_type": "code",
   "execution_count": 19,
   "id": "05b20fd9",
   "metadata": {},
   "outputs": [],
   "source": [
    "#sgd_standard_score.mean()"
   ]
  },
  {
   "cell_type": "code",
   "execution_count": 20,
   "id": "ada3b8c9",
   "metadata": {},
   "outputs": [],
   "source": [
    "#ランダムフォレスト\n",
    "from sklearn.ensemble import RandomForestClassifier\n",
    "\n",
    "forest_clf = RandomForestClassifier(random_state=42)\n",
    "\n",
    "#forest_minmax_score = cross_val_score(forest_clf, X_train_minmax_scaled,\n",
    "                                      #Y_train, cv=3, scoring=\"accuracy\")\n",
    "\n",
    "#forest_minmax_score.mean()\n",
    "forest_minmax_score_mean = 0.9646"
   ]
  },
  {
   "cell_type": "code",
   "execution_count": 21,
   "id": "955c3d5a",
   "metadata": {},
   "outputs": [],
   "source": [
    "#forest_standard_score = cross_val_score(forest_clf, X_train_standard_scaled,\n",
    "                                       # Y_train, cv=3, scoring=\"accuracy\")\n",
    "\n",
    "forest_standard_score_mean = 0.9644833333333334"
   ]
  },
  {
   "cell_type": "code",
   "execution_count": 22,
   "id": "994f7598",
   "metadata": {},
   "outputs": [],
   "source": [
    "#SVM\n",
    "from sklearn.svm import SVC\n",
    "\n",
    "svm_clf = SVC()\n",
    "\n",
    "#svm_minmax_score = cross_val_score(svm_clf, X_train_minmax_scaled,\n",
    "                                  # Y_train, cv=3, scoring=\"accuracy\")\n",
    "\n",
    "#svm_minmax_score.mean()\n",
    "svm_minmax_score_mean = 0.9749"
   ]
  },
  {
   "cell_type": "code",
   "execution_count": 23,
   "id": "21653217",
   "metadata": {},
   "outputs": [],
   "source": [
    "#svm_standard_score = cross_val_score(svm_clf, X_train_standard_scaled,\n",
    "                                    # Y_train, cv=3, scoring=\"accuracy\")\n",
    "\n",
    "#svm_standard_score.mean()\n",
    "svm_standard_score_mean = 0.9602666666666666"
   ]
  },
  {
   "cell_type": "code",
   "execution_count": 24,
   "id": "cab16e4d",
   "metadata": {},
   "outputs": [
    {
     "data": {
      "text/plain": [
       "0.9674333333333333"
      ]
     },
     "execution_count": 24,
     "metadata": {},
     "output_type": "execute_result"
    }
   ],
   "source": [
    "#k近傍法\n",
    "from sklearn.neighbors import KNeighborsClassifier\n",
    "\n",
    "kN_clf = KNeighborsClassifier()\n",
    "\n",
    "#kN_minmax_score = cross_val_score(kN_clf, X_train_minmax_scaled,\n",
    "                                 # Y_train, cv=3, scoring=\"accuracy\")\n",
    "\n",
    "kN_minmax_score_mean = 0.9674333333333333"
   ]
  },
  {
   "cell_type": "code",
   "execution_count": 25,
   "id": "5a68fa64",
   "metadata": {},
   "outputs": [
    {
     "data": {
      "text/plain": [
       "0.9403666666666667"
      ]
     },
     "execution_count": 25,
     "metadata": {},
     "output_type": "execute_result"
    }
   ],
   "source": [
    "#kN_standard_score = cross_val_score(kN_clf, X_train_standard_scaled,\n",
    "                                    #Y_train, cv=3, scoring=\"accuracy\")\n",
    "\n",
    "kN_standard_score_mean = 0.9403666666666667"
   ]
  },
  {
   "cell_type": "code",
   "execution_count": 26,
   "id": "be3d14ae",
   "metadata": {},
   "outputs": [
    {
     "data": {
      "text/plain": [
       "0.9733999999999999"
      ]
     },
     "execution_count": 26,
     "metadata": {},
     "output_type": "execute_result"
    }
   ],
   "source": [
    "#lightGBMにインスパイアされてできたっていうモデルも使ってみる\n",
    "from sklearn.ensemble import HistGradientBoostingClassifier\n",
    "\n",
    "histGB_clf = HistGradientBoostingClassifier(random_state=42)\n",
    "\n",
    "#histGB_minmax_score = cross_val_score(histGB_clf, X_train_minmax_scaled,\n",
    "                                      # Y_train, cv=3, scoring=\"accuracy\")\n",
    "\n",
    "histGB_minmax_score_mean = 0.9733999999999999"
   ]
  },
  {
   "cell_type": "code",
   "execution_count": 30,
   "id": "505c2e9c",
   "metadata": {},
   "outputs": [
    {
     "data": {
      "text/plain": [
       "0.9733999999999999"
      ]
     },
     "execution_count": 30,
     "metadata": {},
     "output_type": "execute_result"
    }
   ],
   "source": [
    "#histGB_standard_score = cross_val_score(histGB_clf, X_train_standard_scaled,\n",
    "                                       # Y_train, cv=3, scoring=\"accuracy\")\n",
    "\n",
    "histGB_standard_score_mean = 0.9733999999999999"
   ]
  },
  {
   "cell_type": "markdown",
   "id": "86aa3a40",
   "metadata": {},
   "source": [
    "一番精度の良かったSVMでグリッドサーチを行う"
   ]
  },
  {
   "cell_type": "code",
   "execution_count": null,
   "id": "55ceef70",
   "metadata": {},
   "outputs": [],
   "source": [
    "from sklearn.model_selection import GridSearchCV\n",
    "\n",
    "svc_grid = [\n",
    "    {\n",
    "     'C': [10 ** x for x in range(-5, 6)],\n",
    "     'kernel': ['linear', 'poly', 'rbf', 'sigmoid', 'precomputed'],\n",
    "     'decision_function_shape': ['ovo', 'ovr'],\n",
    "    }\n",
    "]\n",
    "\n",
    "svc_grid_search = GridSearchCV(svm_clf, svc_grid, cv=3,\n",
    "                               scoring='neg_mean_squared_error',\n",
    "                               return_train_score=True)\n",
    "\n",
    "svc_grid_search.fit(X_train_minmax_scaled, Y_train)\n",
    "\n",
    "svc_best_param = SVC_grid_search.best_params_\n",
    "svc_best_param"
   ]
  },
  {
   "cell_type": "code",
   "execution_count": null,
   "id": "d6e7adb4",
   "metadata": {},
   "outputs": [],
   "source": []
  }
 ],
 "metadata": {
  "kernelspec": {
   "display_name": "Python 3 (ipykernel)",
   "language": "python",
   "name": "python3"
  },
  "language_info": {
   "codemirror_mode": {
    "name": "ipython",
    "version": 3
   },
   "file_extension": ".py",
   "mimetype": "text/x-python",
   "name": "python",
   "nbconvert_exporter": "python",
   "pygments_lexer": "ipython3",
   "version": "3.9.7"
  }
 },
 "nbformat": 4,
 "nbformat_minor": 5
}
