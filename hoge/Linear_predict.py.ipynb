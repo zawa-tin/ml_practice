{
 "cells": [
  {
   "cell_type": "markdown",
   "id": "b67b831c",
   "metadata": {},
   "source": [
    "様々な一変数関数を入力に与え、予測させる"
   ]
  },
  {
   "cell_type": "code",
   "execution_count": 239,
   "id": "a237ab81",
   "metadata": {},
   "outputs": [],
   "source": [
    "#学習セットと訓練セットに分割する関数\n",
    "def divide_train_and_test(X, y, train_ratio):\n",
    "    num_train = int(X.shape[0] * train_ratio)\n",
    "    X_train, X_test = X[:num_train], X[num_train:]\n",
    "    y_train, y_test = y[:num_train], y[num_train:]\n",
    "    return X_train, X_test, y_train, y_test\n",
    "    "
   ]
  },
  {
   "cell_type": "code",
   "execution_count": 240,
   "id": "0489e24a",
   "metadata": {},
   "outputs": [],
   "source": [
    "#累乗の特徴量を作る関数\n",
    "def make_pow(X, n):\n",
    "    X = X.tolist()\n",
    "    for i, val in enumerate(X):\n",
    "        val = float(val[0])\n",
    "        X[i] = [val**k for k in range(1, n+1)]\n",
    "        X[i] = tuple(X[i])\n",
    "    X = np.array(X)\n",
    "    return X"
   ]
  },
  {
   "cell_type": "code",
   "execution_count": 241,
   "id": "8ec444e6",
   "metadata": {},
   "outputs": [],
   "source": [
    "#バイアス項に掛ける項を挿入する\n",
    "#def insert_ones(X):\n",
    "    #new_X = np.ones((X.shape[0] + 1, X.shape[1]))\n",
    "    #for i in range(1, X.shape[0] + 1):\n",
    "        #new_X[i] = X[i - 1]\n",
    "    #return new_X"
   ]
  },
  {
   "cell_type": "code",
   "execution_count": 242,
   "id": "d8186cce",
   "metadata": {},
   "outputs": [],
   "source": [
    "#バイアス項に掛ける項を挿入する\n",
    "def insert_ones(X):\n",
    "    new_X = np.c_[np.ones((X.shape[0], )), X]\n",
    "    return new_X"
   ]
  },
  {
   "cell_type": "code",
   "execution_count": 243,
   "id": "ac9502c9",
   "metadata": {},
   "outputs": [],
   "source": [
    "#mseの勾配を算出\n",
    "def gradient(X, y, theta, sumple_num):\n",
    "    return 2 / sumple_num * X.T.dot(X.dot(theta) - y)"
   ]
  },
  {
   "cell_type": "code",
   "execution_count": 244,
   "id": "3a762b3a",
   "metadata": {},
   "outputs": [],
   "source": [
    "#勾配降下法\n",
    "def gradient_descent(X, y, eta, iteration):\n",
    "    theta = rng.random(size=(X.shape[1], 1))\n",
    "    for i in range(iteration):\n",
    "        grad = gradient(X, y, theta, y.shape[0])\n",
    "        theta -= eta * grad\n",
    "    return theta"
   ]
  },
  {
   "cell_type": "markdown",
   "id": "e5a1b3ef",
   "metadata": {},
   "source": [
    "１つ目\n",
    "```math\n",
    "y = 5 * x + 4\n",
    "```"
   ]
  },
  {
   "cell_type": "code",
   "execution_count": 245,
   "id": "ea593659",
   "metadata": {},
   "outputs": [],
   "source": [
    "import numpy as np\n",
    "import matplotlib.pyplot as plt\n",
    "%matplotlib inline"
   ]
  },
  {
   "cell_type": "code",
   "execution_count": 246,
   "id": "6314afce",
   "metadata": {},
   "outputs": [],
   "source": [
    "rng = np.random.default_rng()"
   ]
  },
  {
   "cell_type": "code",
   "execution_count": 247,
   "id": "69f60647",
   "metadata": {},
   "outputs": [],
   "source": [
    "sample_num = 100\n",
    "X = 3 * rng.random((sample_num, 1))\n",
    "y = 5 * X + 4 + rng.standard_normal((sample_num, 1))"
   ]
  },
  {
   "cell_type": "code",
   "execution_count": 248,
   "id": "da106193",
   "metadata": {},
   "outputs": [
    {
     "data": {
      "text/plain": [
       "(100, 1)"
      ]
     },
     "execution_count": 248,
     "metadata": {},
     "output_type": "execute_result"
    }
   ],
   "source": [
    "X.shape"
   ]
  },
  {
   "cell_type": "code",
   "execution_count": 249,
   "id": "25db907d",
   "metadata": {},
   "outputs": [
    {
     "data": {
      "image/png": "[encoded data removed]",
      "text/plain": [
       "<Figure size 432x288 with 1 Axes>"
      ]
     },
     "metadata": {
      "needs_background": "light"
     },
     "output_type": "display_data"
    }
   ],
   "source": [
    "plt.plot(X, y, 'b.')\n",
    "plt.show()"
   ]
  },
  {
   "cell_type": "code",
   "execution_count": 250,
   "id": "2abdfd5d",
   "metadata": {},
   "outputs": [],
   "source": [
    "X_train, x_test, y_train, y_test = divide_train_and_test(X, y, 0.75)"
   ]
  },
  {
   "cell_type": "code",
   "execution_count": 251,
   "id": "e3e06522",
   "metadata": {},
   "outputs": [],
   "source": [
    "X_poly = make_pow(X_train, 1)"
   ]
  },
  {
   "cell_type": "code",
   "execution_count": 252,
   "id": "4fc0b61c",
   "metadata": {},
   "outputs": [],
   "source": [
    "X_data = insert_ones(X_poly)"
   ]
  },
  {
   "cell_type": "code",
   "execution_count": 253,
   "id": "4d8995fd",
   "metadata": {},
   "outputs": [
    {
     "data": {
      "text/plain": [
       "(75, 2)"
      ]
     },
     "execution_count": 253,
     "metadata": {},
     "output_type": "execute_result"
    }
   ],
   "source": [
    "X_data.shape"
   ]
  },
  {
   "cell_type": "code",
   "execution_count": 254,
   "id": "7ea8ba18",
   "metadata": {},
   "outputs": [
    {
     "data": {
      "text/plain": [
       "array([[1.        , 2.3719931 ],\n",
       "       [1.        , 0.96248626],\n",
       "       [1.        , 2.59068933],\n",
       "       [1.        , 2.94946834],\n",
       "       [1.        , 1.57318383],\n",
       "       [1.        , 0.47551971],\n",
       "       [1.        , 1.32766331],\n",
       "       [1.        , 2.83793002],\n",
       "       [1.        , 0.08403457],\n",
       "       [1.        , 1.85125195],\n",
       "       [1.        , 2.81568356],\n",
       "       [1.        , 1.97344335],\n",
       "       [1.        , 2.00541355],\n",
       "       [1.        , 1.116592  ],\n",
       "       [1.        , 0.77232685],\n",
       "       [1.        , 0.58119092],\n",
       "       [1.        , 0.09683887],\n",
       "       [1.        , 2.96629124],\n",
       "       [1.        , 0.14559077],\n",
       "       [1.        , 2.2392467 ],\n",
       "       [1.        , 0.48282317],\n",
       "       [1.        , 1.96603878],\n",
       "       [1.        , 2.73522504],\n",
       "       [1.        , 2.69266404],\n",
       "       [1.        , 0.90320645],\n",
       "       [1.        , 2.34216446],\n",
       "       [1.        , 1.52962881],\n",
       "       [1.        , 2.98849932],\n",
       "       [1.        , 0.32242753],\n",
       "       [1.        , 0.46578857],\n",
       "       [1.        , 2.38939544],\n",
       "       [1.        , 0.31698548],\n",
       "       [1.        , 0.56608321],\n",
       "       [1.        , 0.11652373],\n",
       "       [1.        , 2.10484208],\n",
       "       [1.        , 0.61678793],\n",
       "       [1.        , 1.83683715],\n",
       "       [1.        , 2.15212732],\n",
       "       [1.        , 2.06757435],\n",
       "       [1.        , 1.17518826],\n",
       "       [1.        , 2.29474728],\n",
       "       [1.        , 2.78736846],\n",
       "       [1.        , 0.65968775],\n",
       "       [1.        , 1.77219377],\n",
       "       [1.        , 2.6683512 ],\n",
       "       [1.        , 1.16108453],\n",
       "       [1.        , 0.46100255],\n",
       "       [1.        , 1.67453929],\n",
       "       [1.        , 1.79716651],\n",
       "       [1.        , 2.38462952],\n",
       "       [1.        , 0.6087807 ],\n",
       "       [1.        , 2.32311152],\n",
       "       [1.        , 1.47152862],\n",
       "       [1.        , 1.45772055],\n",
       "       [1.        , 2.6994115 ],\n",
       "       [1.        , 2.65183313],\n",
       "       [1.        , 1.54984021],\n",
       "       [1.        , 2.93140412],\n",
       "       [1.        , 1.44925512],\n",
       "       [1.        , 1.80748934],\n",
       "       [1.        , 0.49753115],\n",
       "       [1.        , 0.35325661],\n",
       "       [1.        , 2.31561699],\n",
       "       [1.        , 1.37378047],\n",
       "       [1.        , 0.9318677 ],\n",
       "       [1.        , 0.86083082],\n",
       "       [1.        , 0.0315826 ],\n",
       "       [1.        , 1.59918083],\n",
       "       [1.        , 1.46705903],\n",
       "       [1.        , 0.627104  ],\n",
       "       [1.        , 2.74590633],\n",
       "       [1.        , 0.93327683],\n",
       "       [1.        , 0.98187198],\n",
       "       [1.        , 2.75111019],\n",
       "       [1.        , 2.62377416]])"
      ]
     },
     "execution_count": 254,
     "metadata": {},
     "output_type": "execute_result"
    }
   ],
   "source": [
    "X_data"
   ]
  },
  {
   "cell_type": "code",
   "execution_count": 255,
   "id": "b53bc04f",
   "metadata": {},
   "outputs": [],
   "source": [
    "theta = gradient_descent(X_data, y_train, 0.1, 100)"
   ]
  },
  {
   "cell_type": "code",
   "execution_count": 256,
   "id": "41e28cb6",
   "metadata": {},
   "outputs": [],
   "source": [
    "y_predict = X_data.dot(theta)"
   ]
  },
  {
   "cell_type": "code",
   "execution_count": 257,
   "id": "e139f567",
   "metadata": {},
   "outputs": [
    {
     "data": {
      "text/plain": [
       "array([[15.9800725 ],\n",
       "       [ 8.68473283],\n",
       "       [17.11200263],\n",
       "       [18.96897464],\n",
       "       [11.84558748],\n",
       "       [ 6.16428648],\n",
       "       [10.57481991],\n",
       "       [18.39167345],\n",
       "       [ 4.13803378],\n",
       "       [13.28481521],\n",
       "       [18.27653004],\n",
       "       [13.9172547 ],\n",
       "       [14.08272638],\n",
       "       [ 9.4823549 ],\n",
       "       [ 7.7005039 ],\n",
       "       [ 6.71122062],\n",
       "       [ 4.20430643],\n",
       "       [19.05604677],\n",
       "       [ 4.45663701],\n",
       "       [15.29300233],\n",
       "       [ 6.20208781],\n",
       "       [13.87893005],\n",
       "       [17.860092  ],\n",
       "       [17.63980433],\n",
       "       [ 8.3779118 ],\n",
       "       [15.8256851 ],\n",
       "       [11.62015495],\n",
       "       [19.17099155],\n",
       "       [ 5.37191048],\n",
       "       [ 6.11392   ],\n",
       "       [16.07014367],\n",
       "       [ 5.34374348],\n",
       "       [ 6.63302599],\n",
       "       [ 4.3061915 ],\n",
       "       [14.59734955],\n",
       "       [ 6.89546399],\n",
       "       [13.21020695],\n",
       "       [14.84208898],\n",
       "       [14.40445886],\n",
       "       [ 9.78563801],\n",
       "       [15.58026282],\n",
       "       [18.12997645],\n",
       "       [ 7.11750529],\n",
       "       [12.87562509],\n",
       "       [17.5139657 ],\n",
       "       [ 9.7126398 ],\n",
       "       [ 6.08914844],\n",
       "       [12.37018405],\n",
       "       [13.00487925],\n",
       "       [16.0454762 ],\n",
       "       [ 6.85402006],\n",
       "       [15.7270707 ],\n",
       "       [11.31943943],\n",
       "       [11.24797147],\n",
       "       [17.67472792],\n",
       "       [17.4284713 ],\n",
       "       [11.7247653 ],\n",
       "       [18.87547766],\n",
       "       [11.20415598],\n",
       "       [13.05830828],\n",
       "       [ 6.27821356],\n",
       "       [ 5.53147593],\n",
       "       [15.68828043],\n",
       "       [10.81351356],\n",
       "       [ 8.52625703],\n",
       "       [ 8.15858359],\n",
       "       [ 3.86655234],\n",
       "       [11.98014302],\n",
       "       [11.29630567],\n",
       "       [ 6.94885799],\n",
       "       [17.91537631],\n",
       "       [ 8.5335504 ],\n",
       "       [ 8.78506967],\n",
       "       [17.94231053],\n",
       "       [17.2832434 ]])"
      ]
     },
     "execution_count": 257,
     "metadata": {},
     "output_type": "execute_result"
    }
   ],
   "source": [
    "y_predict"
   ]
  },
  {
   "cell_type": "code",
   "execution_count": 258,
   "id": "fa1bfd2b",
   "metadata": {},
   "outputs": [
    {
     "data": {
      "text/plain": [
       "(75, 1)"
      ]
     },
     "execution_count": 258,
     "metadata": {},
     "output_type": "execute_result"
    }
   ],
   "source": [
    "y_predict.shape"
   ]
  },
  {
   "cell_type": "code",
   "execution_count": 259,
   "id": "83b195c9",
   "metadata": {},
   "outputs": [
    {
     "data": {
      "image/png": "[encoded data removed]",
      "text/plain": [
       "<Figure size 432x288 with 1 Axes>"
      ]
     },
     "metadata": {
      "needs_background": "light"
     },
     "output_type": "display_data"
    }
   ],
   "source": [
    "plt.plot(X_train, y_train, 'b.')\n",
    "plt.plot(X_train, y_predict, 'r.')\n",
    "plt.show()"
   ]
  },
  {
   "cell_type": "code",
   "execution_count": null,
   "id": "ff9b6407",
   "metadata": {},
   "outputs": [],
   "source": []
  }
 ],
 "metadata": {
  "kernelspec": {
   "display_name": "Python 3 (ipykernel)",
   "language": "python",
   "name": "python3"
  },
  "language_info": {
   "codemirror_mode": {
    "name": "ipython",
    "version": 3
   },
   "file_extension": ".py",
   "mimetype": "text/x-python",
   "name": "python",
   "nbconvert_exporter": "python",
   "pygments_lexer": "ipython3",
   "version": "3.9.7"
  }
 },
 "nbformat": 4,
 "nbformat_minor": 5
}
