{
 "cells": [
  {
   "cell_type": "markdown",
   "id": "b67b831c",
   "metadata": {},
   "source": [
    "様々な一変数関数を入力に与え、予測させる"
   ]
  },
  {
   "cell_type": "code",
   "execution_count": 126,
   "id": "a237ab81",
   "metadata": {},
   "outputs": [],
   "source": [
    "#学習セットと訓練セットに分割する関数\n",
    "def divide_train_and_test(X, y, train_ratio):\n",
    "    num_train = int(X.shape[0] * train_ratio)\n",
    "    X_train, X_test = X[:num_train], X[num_train:]\n",
    "    y_train, y_test = y[:num_train], y[num_train:]\n",
    "    return X_train, X_test, y_train, y_test\n",
    "    "
   ]
  },
  {
   "cell_type": "code",
   "execution_count": 127,
   "id": "0489e24a",
   "metadata": {},
   "outputs": [],
   "source": [
    "#累乗の特徴量を作る関数(多項式回帰で用いる)\n",
    "def make_pow(X, n):\n",
    "    X_b = X.tolist()\n",
    "    for i, val in enumerate(X_b):\n",
    "        val = float(val[0])\n",
    "        X_b[i] = [val**k for k in range(1, n+1)]\n",
    "        X_b[i] = tuple(X_b[i])\n",
    "    X_b = np.array(X_b)\n",
    "    return X_b"
   ]
  },
  {
   "cell_type": "code",
   "execution_count": 128,
   "id": "8ec444e6",
   "metadata": {},
   "outputs": [],
   "source": [
    "#バイアス項に掛ける項を挿入する\n",
    "#def insert_ones(X):\n",
    "    #new_X = np.ones((X.shape[0] + 1, X.shape[1]))\n",
    "    #for i in range(1, X.shape[0] + 1):\n",
    "        #new_X[i] = X[i - 1]\n",
    "    #return new_X"
   ]
  },
  {
   "cell_type": "code",
   "execution_count": 129,
   "id": "d8186cce",
   "metadata": {},
   "outputs": [],
   "source": [
    "#バイアス項に掛ける項を挿入する\n",
    "def insert_ones(X):\n",
    "    new_X = np.c_[np.ones((X.shape[0], )), X]\n",
    "    return new_X"
   ]
  },
  {
   "cell_type": "code",
   "execution_count": 130,
   "id": "ac9502c9",
   "metadata": {},
   "outputs": [],
   "source": [
    "#mseの勾配を算出\n",
    "def gradient(X, y, theta, sumple_num):\n",
    "    return 2 / sumple_num * X.T.dot(X.dot(theta) - y)"
   ]
  },
  {
   "cell_type": "code",
   "execution_count": 131,
   "id": "3a762b3a",
   "metadata": {},
   "outputs": [],
   "source": [
    "#勾配降下法\n",
    "def gradient_descent(X, y, eta, iteration):\n",
    "    theta = rng.random(size=(X.shape[1], 1))\n",
    "    for i in range(iteration):\n",
    "        grad = gradient(X, y, theta, y.shape[0])\n",
    "        theta -= eta * grad\n",
    "    return theta"
   ]
  },
  {
   "cell_type": "code",
   "execution_count": 132,
   "id": "5e6b9383",
   "metadata": {},
   "outputs": [],
   "source": [
    "#予測を算出\n",
    "def predict_val(X, weight):\n",
    "    return X.dot(weight)"
   ]
  },
  {
   "cell_type": "code",
   "execution_count": 161,
   "id": "6e5044b4",
   "metadata": {},
   "outputs": [],
   "source": [
    "#mseを算出\n",
    "def mse(label, predict):\n",
    "    mse = 0\n",
    "    for i in range(label.shape[0]):\n",
    "        mse += (predict[i] - label[i])**2\n",
    "    mse /= label.shape[0]\n",
    "    return mse"
   ]
  },
  {
   "cell_type": "code",
   "execution_count": 163,
   "id": "02a64347",
   "metadata": {},
   "outputs": [],
   "source": [
    "#早期打ち切り、何次関数のモデルが最適かを判断する"
   ]
  },
  {
   "cell_type": "markdown",
   "id": "abd27c39",
   "metadata": {},
   "source": [
    "パイプライン化"
   ]
  },
  {
   "cell_type": "code",
   "execution_count": 157,
   "id": "38f6cd43",
   "metadata": {},
   "outputs": [],
   "source": [
    "def linear_regression(X, y, train_ratio=0.75, dimension=3, eta=0.1, iteration=100, retval='mse'):\n",
    "    X_train, X_test, y_train, y_test = divide_train_and_test(X, y, train_ratio)\n",
    "    X_poly = make_pow(X_train, dimension)\n",
    "    X_data = insert_ones(X_poly)\n",
    "    theta = gradient_descent(X_data, y_train, eta, iteration)\n",
    "    y_predict = predict_val(X_data, theta)\n",
    "    plt.plot(X_train, y_train, 'b.')\n",
    "    plt.plot(X_train, y_predict, 'r.')\n",
    "    plt.show()\n",
    "    \n",
    "    if (retval == 'weight'):\n",
    "        return theta\n",
    "    elif (retval == 'mse'):\n",
    "        X_test_poly = make_pow(X_test, dimension)\n",
    "        X_test_data = insert_ones(X_test_poly)\n",
    "        y_test_predict = predict_val(X_test_data, theta)\n",
    "        return mse(y_test, y_test_predict)"
   ]
  },
  {
   "cell_type": "markdown",
   "id": "e5a1b3ef",
   "metadata": {},
   "source": [
    "１つ目\n",
    "```math\n",
    "y = 5 * x + 4\n",
    "```"
   ]
  },
  {
   "cell_type": "code",
   "execution_count": 135,
   "id": "ea593659",
   "metadata": {},
   "outputs": [],
   "source": [
    "import numpy as np\n",
    "import matplotlib.pyplot as plt\n",
    "%matplotlib inline"
   ]
  },
  {
   "cell_type": "code",
   "execution_count": 136,
   "id": "6314afce",
   "metadata": {},
   "outputs": [],
   "source": [
    "rng = np.random.default_rng()"
   ]
  },
  {
   "cell_type": "code",
   "execution_count": 143,
   "id": "69f60647",
   "metadata": {},
   "outputs": [],
   "source": [
    "sample_num = 100\n",
    "X = 3 * rng.random((sample_num, 1))\n",
    "y = 5 * X + 4 + rng.standard_normal((sample_num, 1))"
   ]
  },
  {
   "cell_type": "code",
   "execution_count": 139,
   "id": "25db907d",
   "metadata": {},
   "outputs": [
    {
     "data": {
      "image/png": "[encoded data removed]",
      "text/plain": [
       "<Figure size 432x288 with 1 Axes>"
      ]
     },
     "metadata": {
      "needs_background": "light"
     },
     "output_type": "display_data"
    }
   ],
   "source": [
    "plt.plot(X, y, 'b.')\n",
    "plt.show()"
   ]
  },
  {
   "cell_type": "code",
   "execution_count": 140,
   "id": "f5a02d6b",
   "metadata": {},
   "outputs": [
    {
     "data": {
      "image/png": "[encoded data removed]",
      "text/plain": [
       "<Figure size 432x288 with 1 Axes>"
      ]
     },
     "metadata": {
      "needs_background": "light"
     },
     "output_type": "display_data"
    },
    {
     "data": {
      "text/plain": [
       "array([0.81800073])"
      ]
     },
     "execution_count": 140,
     "metadata": {},
     "output_type": "execute_result"
    }
   ],
   "source": [
    "linear_regression(X, y, dimension=1)"
   ]
  },
  {
   "cell_type": "markdown",
   "id": "98c8251d",
   "metadata": {},
   "source": [
    "２つ目\n",
    "```math\n",
    "y = X**2 + 4\n",
    "```"
   ]
  },
  {
   "cell_type": "code",
   "execution_count": 145,
   "id": "5af9c67b",
   "metadata": {},
   "outputs": [
    {
     "data": {
      "image/png": "[encoded data removed]",
      "text/plain": [
       "<Figure size 432x288 with 1 Axes>"
      ]
     },
     "metadata": {
      "needs_background": "light"
     },
     "output_type": "display_data"
    }
   ],
   "source": [
    "X = 2 * rng.random((sample_num, 1)) - 1\n",
    "y = X**2 + 4 + rng.standard_normal((sample_num, 1))\n",
    "plt.plot(X, y, 'b.')\n",
    "plt.show()"
   ]
  },
  {
   "cell_type": "code",
   "execution_count": 162,
   "id": "62d36d62",
   "metadata": {},
   "outputs": [
    {
     "data": {
      "image/png": "[encoded data removed]",
      "text/plain": [
       "<Figure size 432x288 with 1 Axes>"
      ]
     },
     "metadata": {
      "needs_background": "light"
     },
     "output_type": "display_data"
    },
    {
     "data": {
      "text/plain": [
       "array([1.13018976])"
      ]
     },
     "execution_count": 162,
     "metadata": {},
     "output_type": "execute_result"
    }
   ],
   "source": [
    "linear_regression(X, y, dimension=2)"
   ]
  },
  {
   "cell_type": "code",
   "execution_count": null,
   "id": "0ead0373",
   "metadata": {},
   "outputs": [],
   "source": []
  }
 ],
 "metadata": {
  "kernelspec": {
   "display_name": "Python 3 (ipykernel)",
   "language": "python",
   "name": "python3"
  },
  "language_info": {
   "codemirror_mode": {
    "name": "ipython",
    "version": 3
   },
   "file_extension": ".py",
   "mimetype": "text/x-python",
   "name": "python",
   "nbconvert_exporter": "python",
   "pygments_lexer": "ipython3",
   "version": "3.9.7"
  }
 },
 "nbformat": 4,
 "nbformat_minor": 5
}
